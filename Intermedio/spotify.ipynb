{
 "cells": [
  {
   "cell_type": "code",
   "execution_count": 12,
   "metadata": {},
   "outputs": [],
   "source": [
    "url_base = 'https://api.spotify.com/v1'"
   ]
  },
  {
   "cell_type": "code",
   "execution_count": 13,
   "metadata": {},
   "outputs": [],
   "source": [
    "ep_artist='/artists/{artist_id}'"
   ]
  },
  {
   "cell_type": "code",
   "execution_count": 14,
   "metadata": {},
   "outputs": [],
   "source": [
    "artist_id='5YGY8feqx7naU7z4HrwZM6'"
   ]
  },
  {
   "cell_type": "code",
   "execution_count": 15,
   "metadata": {},
   "outputs": [
    {
     "data": {
      "text/plain": [
       "'https://api.spotify.com/v1/artists/5YGY8feqx7naU7z4HrwZM6'"
      ]
     },
     "execution_count": 15,
     "metadata": {},
     "output_type": "execute_result"
    }
   ],
   "source": [
    "url_base + ep_artist.format(artist_id=artist_id)"
   ]
  },
  {
   "cell_type": "code",
   "execution_count": 16,
   "metadata": {},
   "outputs": [],
   "source": [
    "import requests"
   ]
  },
  {
   "cell_type": "code",
   "execution_count": 17,
   "metadata": {},
   "outputs": [],
   "source": [
    "r =  requests.get(url_base + ep_artist.format(artist_id=artist_id))"
   ]
  },
  {
   "cell_type": "code",
   "execution_count": 18,
   "metadata": {},
   "outputs": [
    {
     "data": {
      "text/plain": [
       "401"
      ]
     },
     "execution_count": 18,
     "metadata": {},
     "output_type": "execute_result"
    }
   ],
   "source": [
    "r.status_code"
   ]
  },
  {
   "attachments": {},
   "cell_type": "markdown",
   "metadata": {},
   "source": [
    "Generar un token"
   ]
  },
  {
   "cell_type": "code",
   "execution_count": 19,
   "metadata": {},
   "outputs": [],
   "source": [
    "token_url = 'https://accounts.spotify.com/api/token'"
   ]
  },
  {
   "cell_type": "code",
   "execution_count": 25,
   "metadata": {},
   "outputs": [],
   "source": [
    "params = {\n",
    "    'grant_type':'client_credentials'\n",
    "}"
   ]
  },
  {
   "cell_type": "code",
   "execution_count": 28,
   "metadata": {},
   "outputs": [],
   "source": []
  },
  {
   "cell_type": "code",
   "execution_count": 29,
   "metadata": {},
   "outputs": [],
   "source": [
    "r = requests.post(token_url,data=params,headers=headers)"
   ]
  },
  {
   "cell_type": "code",
   "execution_count": 30,
   "metadata": {},
   "outputs": [
    {
     "data": {
      "text/plain": [
       "{'access_token': 'BQBA_gWQeKBfjeChxNDI2IzV86duf74pc24_b-l_9NYUEU-oDuUd8IoV3FmhwwbXKlcu_lDam25njy7OxTCLi_dO46-ibu7io5k4tmY5lvs6CbZRMRFH',\n",
       " 'token_type': 'Bearer',\n",
       " 'expires_in': 3600}"
      ]
     },
     "execution_count": 30,
     "metadata": {},
     "output_type": "execute_result"
    }
   ],
   "source": [
    "r.json()"
   ]
  },
  {
   "cell_type": "code",
   "execution_count": 32,
   "metadata": {},
   "outputs": [],
   "source": [
    "token = r.json()['access_token']"
   ]
  },
  {
   "cell_type": "code",
   "execution_count": 33,
   "metadata": {},
   "outputs": [],
   "source": [
    "header = {'Authorization': 'Bearer {}'.format(token)}"
   ]
  },
  {
   "cell_type": "code",
   "execution_count": 34,
   "metadata": {},
   "outputs": [],
   "source": [
    "r =  requests.get(url_base + ep_artist.format(artist_id=artist_id),headers=header)"
   ]
  },
  {
   "cell_type": "code",
   "execution_count": 35,
   "metadata": {},
   "outputs": [
    {
     "data": {
      "text/plain": [
       "200"
      ]
     },
     "execution_count": 35,
     "metadata": {},
     "output_type": "execute_result"
    }
   ],
   "source": [
    "r.status_code"
   ]
  },
  {
   "cell_type": "code",
   "execution_count": 36,
   "metadata": {},
   "outputs": [
    {
     "data": {
      "text/plain": [
       "{'external_urls': {'spotify': 'https://open.spotify.com/artist/5YGY8feqx7naU7z4HrwZM6'},\n",
       " 'followers': {'href': None, 'total': 20514759},\n",
       " 'genres': ['pop'],\n",
       " 'href': 'https://api.spotify.com/v1/artists/5YGY8feqx7naU7z4HrwZM6',\n",
       " 'id': '5YGY8feqx7naU7z4HrwZM6',\n",
       " 'images': [{'height': 640,\n",
       "   'url': 'https://i.scdn.co/image/ab6761610000e5eb7e8110a92ec2252f0821f8b8',\n",
       "   'width': 640},\n",
       "  {'height': 320,\n",
       "   'url': 'https://i.scdn.co/image/ab676161000051747e8110a92ec2252f0821f8b8',\n",
       "   'width': 320},\n",
       "  {'height': 160,\n",
       "   'url': 'https://i.scdn.co/image/ab6761610000f1787e8110a92ec2252f0821f8b8',\n",
       "   'width': 160}],\n",
       " 'name': 'Miley Cyrus',\n",
       " 'popularity': 90,\n",
       " 'type': 'artist',\n",
       " 'uri': 'spotify:artist:5YGY8feqx7naU7z4HrwZM6'}"
      ]
     },
     "execution_count": 36,
     "metadata": {},
     "output_type": "execute_result"
    }
   ],
   "source": [
    "r.json()"
   ]
  },
  {
   "cell_type": "code",
   "execution_count": 37,
   "metadata": {},
   "outputs": [],
   "source": [
    "url_busqueda = 'https://api.spotify.com/v1/search'"
   ]
  },
  {
   "cell_type": "code",
   "execution_count": 38,
   "metadata": {},
   "outputs": [],
   "source": [
    "search_params = {'q':'Miley+Cyrus','type':'artist','market':'GT'}"
   ]
  },
  {
   "cell_type": "code",
   "execution_count": 39,
   "metadata": {},
   "outputs": [],
   "source": [
    "busqueda = requests.get(url_busqueda, headers=header, params=search_params)"
   ]
  },
  {
   "cell_type": "code",
   "execution_count": 40,
   "metadata": {},
   "outputs": [
    {
     "data": {
      "text/plain": [
       "200"
      ]
     },
     "execution_count": 40,
     "metadata": {},
     "output_type": "execute_result"
    }
   ],
   "source": [
    "busqueda.status_code"
   ]
  },
  {
   "cell_type": "code",
   "execution_count": 41,
   "metadata": {},
   "outputs": [
    {
     "data": {
      "text/plain": [
       "{'artists': {'href': 'https://api.spotify.com/v1/search?query=Miley%2BCyrus&type=artist&market=GT&offset=0&limit=20',\n",
       "  'items': [{'external_urls': {'spotify': 'https://open.spotify.com/artist/5YGY8feqx7naU7z4HrwZM6'},\n",
       "    'followers': {'href': None, 'total': 20514759},\n",
       "    'genres': ['pop'],\n",
       "    'href': 'https://api.spotify.com/v1/artists/5YGY8feqx7naU7z4HrwZM6',\n",
       "    'id': '5YGY8feqx7naU7z4HrwZM6',\n",
       "    'images': [{'height': 640,\n",
       "      'url': 'https://i.scdn.co/image/ab6761610000e5eb7e8110a92ec2252f0821f8b8',\n",
       "      'width': 640},\n",
       "     {'height': 320,\n",
       "      'url': 'https://i.scdn.co/image/ab676161000051747e8110a92ec2252f0821f8b8',\n",
       "      'width': 320},\n",
       "     {'height': 160,\n",
       "      'url': 'https://i.scdn.co/image/ab6761610000f1787e8110a92ec2252f0821f8b8',\n",
       "      'width': 160}],\n",
       "    'name': 'Miley Cyrus',\n",
       "    'popularity': 90,\n",
       "    'type': 'artist',\n",
       "    'uri': 'spotify:artist:5YGY8feqx7naU7z4HrwZM6'},\n",
       "   {'external_urls': {'spotify': 'https://open.spotify.com/artist/2ZKzqJz3pPfWKVRgz9b39j'},\n",
       "    'followers': {'href': None, 'total': 3585},\n",
       "    'genres': [],\n",
       "    'href': 'https://api.spotify.com/v1/artists/2ZKzqJz3pPfWKVRgz9b39j',\n",
       "    'id': '2ZKzqJz3pPfWKVRgz9b39j',\n",
       "    'images': [{'height': 640,\n",
       "      'url': 'https://i.scdn.co/image/ab6761610000e5eb79d0fef327e227830321d986',\n",
       "      'width': 640},\n",
       "     {'height': 320,\n",
       "      'url': 'https://i.scdn.co/image/ab6761610000517479d0fef327e227830321d986',\n",
       "      'width': 320},\n",
       "     {'height': 160,\n",
       "      'url': 'https://i.scdn.co/image/ab6761610000f17879d0fef327e227830321d986',\n",
       "      'width': 160}],\n",
       "    'name': 'Ilsey',\n",
       "    'popularity': 49,\n",
       "    'type': 'artist',\n",
       "    'uri': 'spotify:artist:2ZKzqJz3pPfWKVRgz9b39j'},\n",
       "   {'external_urls': {'spotify': 'https://open.spotify.com/artist/3NkUVbGU8HjV9CqzfmtwMa'},\n",
       "    'followers': {'href': None, 'total': 2340},\n",
       "    'genres': [],\n",
       "    'href': 'https://api.spotify.com/v1/artists/3NkUVbGU8HjV9CqzfmtwMa',\n",
       "    'id': '3NkUVbGU8HjV9CqzfmtwMa',\n",
       "    'images': [],\n",
       "    'name': 'Miley Cyrus as Hannah Montana',\n",
       "    'popularity': 9,\n",
       "    'type': 'artist',\n",
       "    'uri': 'spotify:artist:3NkUVbGU8HjV9CqzfmtwMa'},\n",
       "   {'external_urls': {'spotify': 'https://open.spotify.com/artist/7LNjWAk8ktlW2GZDQ9VAyF'},\n",
       "    'followers': {'href': None, 'total': 36},\n",
       "    'genres': [],\n",
       "    'href': 'https://api.spotify.com/v1/artists/7LNjWAk8ktlW2GZDQ9VAyF',\n",
       "    'id': '7LNjWAk8ktlW2GZDQ9VAyF',\n",
       "    'images': [],\n",
       "    'name': 'Miley Ray Cyrus',\n",
       "    'popularity': 1,\n",
       "    'type': 'artist',\n",
       "    'uri': 'spotify:artist:7LNjWAk8ktlW2GZDQ9VAyF'},\n",
       "   {'external_urls': {'spotify': 'https://open.spotify.com/artist/3lagY1cGGtjoUw0oSHWKzJ'},\n",
       "    'followers': {'href': None, 'total': 3},\n",
       "    'genres': [],\n",
       "    'href': 'https://api.spotify.com/v1/artists/3lagY1cGGtjoUw0oSHWKzJ',\n",
       "    'id': '3lagY1cGGtjoUw0oSHWKzJ',\n",
       "    'images': [],\n",
       "    'name': 'Cyrus',\n",
       "    'popularity': 2,\n",
       "    'type': 'artist',\n",
       "    'uri': 'spotify:artist:3lagY1cGGtjoUw0oSHWKzJ'},\n",
       "   {'external_urls': {'spotify': 'https://open.spotify.com/artist/5Xs2GcYWkOIUYMF2l19ZNq'},\n",
       "    'followers': {'href': None, 'total': 818},\n",
       "    'genres': [],\n",
       "    'href': 'https://api.spotify.com/v1/artists/5Xs2GcYWkOIUYMF2l19ZNq',\n",
       "    'id': '5Xs2GcYWkOIUYMF2l19ZNq',\n",
       "    'images': [{'height': 640,\n",
       "      'url': 'https://i.scdn.co/image/ab6761610000e5eb4243378c7d4a389dbb8ec28d',\n",
       "      'width': 640},\n",
       "     {'height': 320,\n",
       "      'url': 'https://i.scdn.co/image/ab676161000051744243378c7d4a389dbb8ec28d',\n",
       "      'width': 320},\n",
       "     {'height': 160,\n",
       "      'url': 'https://i.scdn.co/image/ab6761610000f1784243378c7d4a389dbb8ec28d',\n",
       "      'width': 160}],\n",
       "    'name': 'CYRUS',\n",
       "    'popularity': 20,\n",
       "    'type': 'artist',\n",
       "    'uri': 'spotify:artist:5Xs2GcYWkOIUYMF2l19ZNq'},\n",
       "   {'external_urls': {'spotify': 'https://open.spotify.com/artist/4tssu72tuesjKHgRnqHGx6'},\n",
       "    'followers': {'href': None, 'total': 174},\n",
       "    'genres': [],\n",
       "    'href': 'https://api.spotify.com/v1/artists/4tssu72tuesjKHgRnqHGx6',\n",
       "    'id': '4tssu72tuesjKHgRnqHGx6',\n",
       "    'images': [{'height': 640,\n",
       "      'url': 'https://i.scdn.co/image/ab6761610000e5eba6d2f63fe45eabd8d7c729a3',\n",
       "      'width': 640},\n",
       "     {'height': 320,\n",
       "      'url': 'https://i.scdn.co/image/ab67616100005174a6d2f63fe45eabd8d7c729a3',\n",
       "      'width': 320},\n",
       "     {'height': 160,\n",
       "      'url': 'https://i.scdn.co/image/ab6761610000f178a6d2f63fe45eabd8d7c729a3',\n",
       "      'width': 160}],\n",
       "    'name': 'Miley!',\n",
       "    'popularity': 4,\n",
       "    'type': 'artist',\n",
       "    'uri': 'spotify:artist:4tssu72tuesjKHgRnqHGx6'},\n",
       "   {'external_urls': {'spotify': 'https://open.spotify.com/artist/3Hlj4WPsP3KssGCwrWqxLU'},\n",
       "    'followers': {'href': None, 'total': 5},\n",
       "    'genres': [],\n",
       "    'href': 'https://api.spotify.com/v1/artists/3Hlj4WPsP3KssGCwrWqxLU',\n",
       "    'id': '3Hlj4WPsP3KssGCwrWqxLU',\n",
       "    'images': [{'height': 640,\n",
       "      'url': 'https://i.scdn.co/image/ab67616d0000b273b95c885ccb4d7810b92c9461',\n",
       "      'width': 640},\n",
       "     {'height': 300,\n",
       "      'url': 'https://i.scdn.co/image/ab67616d00001e02b95c885ccb4d7810b92c9461',\n",
       "      'width': 300},\n",
       "     {'height': 64,\n",
       "      'url': 'https://i.scdn.co/image/ab67616d00004851b95c885ccb4d7810b92c9461',\n",
       "      'width': 64}],\n",
       "    'name': 'Cyrus',\n",
       "    'popularity': 6,\n",
       "    'type': 'artist',\n",
       "    'uri': 'spotify:artist:3Hlj4WPsP3KssGCwrWqxLU'},\n",
       "   {'external_urls': {'spotify': 'https://open.spotify.com/artist/6GcyZ7ldqoXhYhoIDwljrQ'},\n",
       "    'followers': {'href': None, 'total': 423},\n",
       "    'genres': [],\n",
       "    'href': 'https://api.spotify.com/v1/artists/6GcyZ7ldqoXhYhoIDwljrQ',\n",
       "    'id': '6GcyZ7ldqoXhYhoIDwljrQ',\n",
       "    'images': [{'height': 640,\n",
       "      'url': 'https://i.scdn.co/image/ab67616d0000b2738003f0de2aa1c7673037112d',\n",
       "      'width': 640},\n",
       "     {'height': 300,\n",
       "      'url': 'https://i.scdn.co/image/ab67616d00001e028707b98fbf376ed1bc95c1a3',\n",
       "      'width': 300},\n",
       "     {'height': 64,\n",
       "      'url': 'https://i.scdn.co/image/ab67616d000048518003f0de2aa1c7673037112d',\n",
       "      'width': 64}],\n",
       "    'name': 'Miley Cruise',\n",
       "    'popularity': 16,\n",
       "    'type': 'artist',\n",
       "    'uri': 'spotify:artist:6GcyZ7ldqoXhYhoIDwljrQ'},\n",
       "   {'external_urls': {'spotify': 'https://open.spotify.com/artist/4wWqyOelvJ8iJOObBo6wF4'},\n",
       "    'followers': {'href': None, 'total': 102},\n",
       "    'genres': [],\n",
       "    'href': 'https://api.spotify.com/v1/artists/4wWqyOelvJ8iJOObBo6wF4',\n",
       "    'id': '4wWqyOelvJ8iJOObBo6wF4',\n",
       "    'images': [{'height': 640,\n",
       "      'url': 'https://i.scdn.co/image/ab67616d0000b273b085c31bd61e52e779368c17',\n",
       "      'width': 640},\n",
       "     {'height': 300,\n",
       "      'url': 'https://i.scdn.co/image/ab67616d00001e02b085c31bd61e52e779368c17',\n",
       "      'width': 300},\n",
       "     {'height': 64,\n",
       "      'url': 'https://i.scdn.co/image/ab67616d00004851b085c31bd61e52e779368c17',\n",
       "      'width': 64}],\n",
       "    'name': 'Miley Cyprus',\n",
       "    'popularity': 8,\n",
       "    'type': 'artist',\n",
       "    'uri': 'spotify:artist:4wWqyOelvJ8iJOObBo6wF4'},\n",
       "   {'external_urls': {'spotify': 'https://open.spotify.com/artist/5fSIuo83PdROf15aqVIAil'},\n",
       "    'followers': {'href': None, 'total': 50},\n",
       "    'genres': [],\n",
       "    'href': 'https://api.spotify.com/v1/artists/5fSIuo83PdROf15aqVIAil',\n",
       "    'id': '5fSIuo83PdROf15aqVIAil',\n",
       "    'images': [],\n",
       "    'name': 'Miley Cirose',\n",
       "    'popularity': 3,\n",
       "    'type': 'artist',\n",
       "    'uri': 'spotify:artist:5fSIuo83PdROf15aqVIAil'},\n",
       "   {'external_urls': {'spotify': 'https://open.spotify.com/artist/3CJSSG5yUOPBe23c16ZXkh'},\n",
       "    'followers': {'href': None, 'total': 59},\n",
       "    'genres': [],\n",
       "    'href': 'https://api.spotify.com/v1/artists/3CJSSG5yUOPBe23c16ZXkh',\n",
       "    'id': '3CJSSG5yUOPBe23c16ZXkh',\n",
       "    'images': [{'height': 640,\n",
       "      'url': 'https://i.scdn.co/image/ab67616d0000b27322bcfff45aaa36e1343e7b28',\n",
       "      'width': 640},\n",
       "     {'height': 300,\n",
       "      'url': 'https://i.scdn.co/image/ab67616d00001e0222bcfff45aaa36e1343e7b28',\n",
       "      'width': 300},\n",
       "     {'height': 64,\n",
       "      'url': 'https://i.scdn.co/image/ab67616d0000485122bcfff45aaa36e1343e7b28',\n",
       "      'width': 64}],\n",
       "    'name': 'Myley Cyrus',\n",
       "    'popularity': 4,\n",
       "    'type': 'artist',\n",
       "    'uri': 'spotify:artist:3CJSSG5yUOPBe23c16ZXkh'},\n",
       "   {'external_urls': {'spotify': 'https://open.spotify.com/artist/4QZvD6dbWSgq3Caiqeo722'},\n",
       "    'followers': {'href': None, 'total': 211},\n",
       "    'genres': [],\n",
       "    'href': 'https://api.spotify.com/v1/artists/4QZvD6dbWSgq3Caiqeo722',\n",
       "    'id': '4QZvD6dbWSgq3Caiqeo722',\n",
       "    'images': [{'height': 640,\n",
       "      'url': 'https://i.scdn.co/image/ab6761610000e5eb67948a7dc03e75e201a07c93',\n",
       "      'width': 640},\n",
       "     {'height': 320,\n",
       "      'url': 'https://i.scdn.co/image/ab6761610000517467948a7dc03e75e201a07c93',\n",
       "      'width': 320},\n",
       "     {'height': 160,\n",
       "      'url': 'https://i.scdn.co/image/ab6761610000f17867948a7dc03e75e201a07c93',\n",
       "      'width': 160}],\n",
       "    'name': 'Milly Cruz',\n",
       "    'popularity': 1,\n",
       "    'type': 'artist',\n",
       "    'uri': 'spotify:artist:4QZvD6dbWSgq3Caiqeo722'},\n",
       "   {'external_urls': {'spotify': 'https://open.spotify.com/artist/3iwLGrXdm48FIrTAD9Pcqn'},\n",
       "    'followers': {'href': None, 'total': 684},\n",
       "    'genres': ['fake'],\n",
       "    'href': 'https://api.spotify.com/v1/artists/3iwLGrXdm48FIrTAD9Pcqn',\n",
       "    'id': '3iwLGrXdm48FIrTAD9Pcqn',\n",
       "    'images': [{'height': 640,\n",
       "      'url': 'https://i.scdn.co/image/ab67616d0000b2735aea8475d7104175e79cb752',\n",
       "      'width': 640},\n",
       "     {'height': 300,\n",
       "      'url': 'https://i.scdn.co/image/ab67616d00001e025aea8475d7104175e79cb752',\n",
       "      'width': 300},\n",
       "     {'height': 64,\n",
       "      'url': 'https://i.scdn.co/image/ab67616d000048515aea8475d7104175e79cb752',\n",
       "      'width': 64}],\n",
       "    'name': 'Miley Lynn',\n",
       "    'popularity': 16,\n",
       "    'type': 'artist',\n",
       "    'uri': 'spotify:artist:3iwLGrXdm48FIrTAD9Pcqn'},\n",
       "   {'external_urls': {'spotify': 'https://open.spotify.com/artist/1D9lSBThfljJYfkhLZyfj3'},\n",
       "    'followers': {'href': None, 'total': 101},\n",
       "    'genres': [],\n",
       "    'href': 'https://api.spotify.com/v1/artists/1D9lSBThfljJYfkhLZyfj3',\n",
       "    'id': '1D9lSBThfljJYfkhLZyfj3',\n",
       "    'images': [{'height': 640,\n",
       "      'url': 'https://i.scdn.co/image/ab6761610000e5eb8fe038d1e38203b5e2d1d56c',\n",
       "      'width': 640},\n",
       "     {'height': 320,\n",
       "      'url': 'https://i.scdn.co/image/ab676161000051748fe038d1e38203b5e2d1d56c',\n",
       "      'width': 320},\n",
       "     {'height': 160,\n",
       "      'url': 'https://i.scdn.co/image/ab6761610000f1788fe038d1e38203b5e2d1d56c',\n",
       "      'width': 160}],\n",
       "    'name': 'Cyrus',\n",
       "    'popularity': 13,\n",
       "    'type': 'artist',\n",
       "    'uri': 'spotify:artist:1D9lSBThfljJYfkhLZyfj3'},\n",
       "   {'external_urls': {'spotify': 'https://open.spotify.com/artist/3nbKErSXOsussK4E90bLAu'},\n",
       "    'followers': {'href': None, 'total': 27},\n",
       "    'genres': [],\n",
       "    'href': 'https://api.spotify.com/v1/artists/3nbKErSXOsussK4E90bLAu',\n",
       "    'id': '3nbKErSXOsussK4E90bLAu',\n",
       "    'images': [{'height': 640,\n",
       "      'url': 'https://i.scdn.co/image/ab67616d0000b27384318365578d44e7b2f6e138',\n",
       "      'width': 640},\n",
       "     {'height': 300,\n",
       "      'url': 'https://i.scdn.co/image/ab67616d00001e0284318365578d44e7b2f6e138',\n",
       "      'width': 300},\n",
       "     {'height': 64,\n",
       "      'url': 'https://i.scdn.co/image/ab67616d0000485184318365578d44e7b2f6e138',\n",
       "      'width': 64}],\n",
       "    'name': 'Mily C',\n",
       "    'popularity': 5,\n",
       "    'type': 'artist',\n",
       "    'uri': 'spotify:artist:3nbKErSXOsussK4E90bLAu'},\n",
       "   {'external_urls': {'spotify': 'https://open.spotify.com/artist/2mwwY6mJSfz4AT6WHavwN2'},\n",
       "    'followers': {'href': None, 'total': 3},\n",
       "    'genres': [],\n",
       "    'href': 'https://api.spotify.com/v1/artists/2mwwY6mJSfz4AT6WHavwN2',\n",
       "    'id': '2mwwY6mJSfz4AT6WHavwN2',\n",
       "    'images': [],\n",
       "    'name': 'Miley4ever',\n",
       "    'popularity': 1,\n",
       "    'type': 'artist',\n",
       "    'uri': 'spotify:artist:2mwwY6mJSfz4AT6WHavwN2'},\n",
       "   {'external_urls': {'spotify': 'https://open.spotify.com/artist/4Bcskhhe9NkZ6rOtSZhuRu'},\n",
       "    'followers': {'href': None, 'total': 32},\n",
       "    'genres': [],\n",
       "    'href': 'https://api.spotify.com/v1/artists/4Bcskhhe9NkZ6rOtSZhuRu',\n",
       "    'id': '4Bcskhhe9NkZ6rOtSZhuRu',\n",
       "    'images': [{'height': 640,\n",
       "      'url': 'https://i.scdn.co/image/ab67616d0000b27396b1333593a4844f04dcc08b',\n",
       "      'width': 640},\n",
       "     {'height': 300,\n",
       "      'url': 'https://i.scdn.co/image/ab67616d00001e0296b1333593a4844f04dcc08b',\n",
       "      'width': 300},\n",
       "     {'height': 64,\n",
       "      'url': 'https://i.scdn.co/image/ab67616d0000485196b1333593a4844f04dcc08b',\n",
       "      'width': 64}],\n",
       "    'name': 'Samantha Moore',\n",
       "    'popularity': 1,\n",
       "    'type': 'artist',\n",
       "    'uri': 'spotify:artist:4Bcskhhe9NkZ6rOtSZhuRu'},\n",
       "   {'external_urls': {'spotify': 'https://open.spotify.com/artist/6qn5IZRcr0GnufiVl7oh08'},\n",
       "    'followers': {'href': None, 'total': 2},\n",
       "    'genres': [],\n",
       "    'href': 'https://api.spotify.com/v1/artists/6qn5IZRcr0GnufiVl7oh08',\n",
       "    'id': '6qn5IZRcr0GnufiVl7oh08',\n",
       "    'images': [{'height': 640,\n",
       "      'url': 'https://i.scdn.co/image/ab67616d0000b273a859db04dad353dc7e0cd18d',\n",
       "      'width': 640},\n",
       "     {'height': 300,\n",
       "      'url': 'https://i.scdn.co/image/ab67616d00001e02a859db04dad353dc7e0cd18d',\n",
       "      'width': 300},\n",
       "     {'height': 64,\n",
       "      'url': 'https://i.scdn.co/image/ab67616d00004851a859db04dad353dc7e0cd18d',\n",
       "      'width': 64}],\n",
       "    'name': 'Mylo Curran',\n",
       "    'popularity': 9,\n",
       "    'type': 'artist',\n",
       "    'uri': 'spotify:artist:6qn5IZRcr0GnufiVl7oh08'},\n",
       "   {'external_urls': {'spotify': 'https://open.spotify.com/artist/5oTzMfVfpttdMijq3c94Wp'},\n",
       "    'followers': {'href': None, 'total': 494},\n",
       "    'genres': [],\n",
       "    'href': 'https://api.spotify.com/v1/artists/5oTzMfVfpttdMijq3c94Wp',\n",
       "    'id': '5oTzMfVfpttdMijq3c94Wp',\n",
       "    'images': [{'height': 640,\n",
       "      'url': 'https://i.scdn.co/image/ab6761610000e5ebf2f4663e60eb25f13094cdd8',\n",
       "      'width': 640},\n",
       "     {'height': 320,\n",
       "      'url': 'https://i.scdn.co/image/ab67616100005174f2f4663e60eb25f13094cdd8',\n",
       "      'width': 320},\n",
       "     {'height': 160,\n",
       "      'url': 'https://i.scdn.co/image/ab6761610000f178f2f4663e60eb25f13094cdd8',\n",
       "      'width': 160}],\n",
       "    'name': 'CYRUS',\n",
       "    'popularity': 5,\n",
       "    'type': 'artist',\n",
       "    'uri': 'spotify:artist:5oTzMfVfpttdMijq3c94Wp'}],\n",
       "  'limit': 20,\n",
       "  'next': 'https://api.spotify.com/v1/search?query=Miley%2BCyrus&type=artist&market=GT&offset=20&limit=20',\n",
       "  'offset': 0,\n",
       "  'previous': None,\n",
       "  'total': 23}}"
      ]
     },
     "execution_count": 41,
     "metadata": {},
     "output_type": "execute_result"
    }
   ],
   "source": [
    "busqueda.json()"
   ]
  },
  {
   "cell_type": "code",
   "execution_count": 43,
   "metadata": {},
   "outputs": [],
   "source": [
    "import pandas as pd"
   ]
  },
  {
   "cell_type": "code",
   "execution_count": 45,
   "metadata": {},
   "outputs": [
    {
     "data": {
      "text/html": [
       "<div>\n",
       "<style scoped>\n",
       "    .dataframe tbody tr th:only-of-type {\n",
       "        vertical-align: middle;\n",
       "    }\n",
       "\n",
       "    .dataframe tbody tr th {\n",
       "        vertical-align: top;\n",
       "    }\n",
       "\n",
       "    .dataframe thead th {\n",
       "        text-align: right;\n",
       "    }\n",
       "</style>\n",
       "<table border=\"1\" class=\"dataframe\">\n",
       "  <thead>\n",
       "    <tr style=\"text-align: right;\">\n",
       "      <th></th>\n",
       "      <th>external_urls</th>\n",
       "      <th>followers</th>\n",
       "      <th>genres</th>\n",
       "      <th>href</th>\n",
       "      <th>id</th>\n",
       "      <th>images</th>\n",
       "      <th>name</th>\n",
       "      <th>popularity</th>\n",
       "      <th>type</th>\n",
       "      <th>uri</th>\n",
       "    </tr>\n",
       "  </thead>\n",
       "  <tbody>\n",
       "    <tr>\n",
       "      <th>0</th>\n",
       "      <td>{'spotify': 'https://open.spotify.com/artist/5...</td>\n",
       "      <td>{'href': None, 'total': 20514759}</td>\n",
       "      <td>[pop]</td>\n",
       "      <td>https://api.spotify.com/v1/artists/5YGY8feqx7n...</td>\n",
       "      <td>5YGY8feqx7naU7z4HrwZM6</td>\n",
       "      <td>[{'height': 640, 'url': 'https://i.scdn.co/ima...</td>\n",
       "      <td>Miley Cyrus</td>\n",
       "      <td>90</td>\n",
       "      <td>artist</td>\n",
       "      <td>spotify:artist:5YGY8feqx7naU7z4HrwZM6</td>\n",
       "    </tr>\n",
       "    <tr>\n",
       "      <th>1</th>\n",
       "      <td>{'spotify': 'https://open.spotify.com/artist/2...</td>\n",
       "      <td>{'href': None, 'total': 3585}</td>\n",
       "      <td>[]</td>\n",
       "      <td>https://api.spotify.com/v1/artists/2ZKzqJz3pPf...</td>\n",
       "      <td>2ZKzqJz3pPfWKVRgz9b39j</td>\n",
       "      <td>[{'height': 640, 'url': 'https://i.scdn.co/ima...</td>\n",
       "      <td>Ilsey</td>\n",
       "      <td>49</td>\n",
       "      <td>artist</td>\n",
       "      <td>spotify:artist:2ZKzqJz3pPfWKVRgz9b39j</td>\n",
       "    </tr>\n",
       "    <tr>\n",
       "      <th>2</th>\n",
       "      <td>{'spotify': 'https://open.spotify.com/artist/3...</td>\n",
       "      <td>{'href': None, 'total': 2340}</td>\n",
       "      <td>[]</td>\n",
       "      <td>https://api.spotify.com/v1/artists/3NkUVbGU8Hj...</td>\n",
       "      <td>3NkUVbGU8HjV9CqzfmtwMa</td>\n",
       "      <td>[]</td>\n",
       "      <td>Miley Cyrus as Hannah Montana</td>\n",
       "      <td>9</td>\n",
       "      <td>artist</td>\n",
       "      <td>spotify:artist:3NkUVbGU8HjV9CqzfmtwMa</td>\n",
       "    </tr>\n",
       "    <tr>\n",
       "      <th>3</th>\n",
       "      <td>{'spotify': 'https://open.spotify.com/artist/7...</td>\n",
       "      <td>{'href': None, 'total': 36}</td>\n",
       "      <td>[]</td>\n",
       "      <td>https://api.spotify.com/v1/artists/7LNjWAk8ktl...</td>\n",
       "      <td>7LNjWAk8ktlW2GZDQ9VAyF</td>\n",
       "      <td>[]</td>\n",
       "      <td>Miley Ray Cyrus</td>\n",
       "      <td>1</td>\n",
       "      <td>artist</td>\n",
       "      <td>spotify:artist:7LNjWAk8ktlW2GZDQ9VAyF</td>\n",
       "    </tr>\n",
       "    <tr>\n",
       "      <th>4</th>\n",
       "      <td>{'spotify': 'https://open.spotify.com/artist/3...</td>\n",
       "      <td>{'href': None, 'total': 3}</td>\n",
       "      <td>[]</td>\n",
       "      <td>https://api.spotify.com/v1/artists/3lagY1cGGtj...</td>\n",
       "      <td>3lagY1cGGtjoUw0oSHWKzJ</td>\n",
       "      <td>[]</td>\n",
       "      <td>Cyrus</td>\n",
       "      <td>2</td>\n",
       "      <td>artist</td>\n",
       "      <td>spotify:artist:3lagY1cGGtjoUw0oSHWKzJ</td>\n",
       "    </tr>\n",
       "  </tbody>\n",
       "</table>\n",
       "</div>"
      ],
      "text/plain": [
       "                                       external_urls   \n",
       "0  {'spotify': 'https://open.spotify.com/artist/5...  \\\n",
       "1  {'spotify': 'https://open.spotify.com/artist/2...   \n",
       "2  {'spotify': 'https://open.spotify.com/artist/3...   \n",
       "3  {'spotify': 'https://open.spotify.com/artist/7...   \n",
       "4  {'spotify': 'https://open.spotify.com/artist/3...   \n",
       "\n",
       "                           followers genres   \n",
       "0  {'href': None, 'total': 20514759}  [pop]  \\\n",
       "1      {'href': None, 'total': 3585}     []   \n",
       "2      {'href': None, 'total': 2340}     []   \n",
       "3        {'href': None, 'total': 36}     []   \n",
       "4         {'href': None, 'total': 3}     []   \n",
       "\n",
       "                                                href                      id   \n",
       "0  https://api.spotify.com/v1/artists/5YGY8feqx7n...  5YGY8feqx7naU7z4HrwZM6  \\\n",
       "1  https://api.spotify.com/v1/artists/2ZKzqJz3pPf...  2ZKzqJz3pPfWKVRgz9b39j   \n",
       "2  https://api.spotify.com/v1/artists/3NkUVbGU8Hj...  3NkUVbGU8HjV9CqzfmtwMa   \n",
       "3  https://api.spotify.com/v1/artists/7LNjWAk8ktl...  7LNjWAk8ktlW2GZDQ9VAyF   \n",
       "4  https://api.spotify.com/v1/artists/3lagY1cGGtj...  3lagY1cGGtjoUw0oSHWKzJ   \n",
       "\n",
       "                                              images   \n",
       "0  [{'height': 640, 'url': 'https://i.scdn.co/ima...  \\\n",
       "1  [{'height': 640, 'url': 'https://i.scdn.co/ima...   \n",
       "2                                                 []   \n",
       "3                                                 []   \n",
       "4                                                 []   \n",
       "\n",
       "                            name  popularity    type   \n",
       "0                    Miley Cyrus          90  artist  \\\n",
       "1                          Ilsey          49  artist   \n",
       "2  Miley Cyrus as Hannah Montana           9  artist   \n",
       "3                Miley Ray Cyrus           1  artist   \n",
       "4                          Cyrus           2  artist   \n",
       "\n",
       "                                     uri  \n",
       "0  spotify:artist:5YGY8feqx7naU7z4HrwZM6  \n",
       "1  spotify:artist:2ZKzqJz3pPfWKVRgz9b39j  \n",
       "2  spotify:artist:3NkUVbGU8HjV9CqzfmtwMa  \n",
       "3  spotify:artist:7LNjWAk8ktlW2GZDQ9VAyF  \n",
       "4  spotify:artist:3lagY1cGGtjoUw0oSHWKzJ  "
      ]
     },
     "execution_count": 45,
     "metadata": {},
     "output_type": "execute_result"
    }
   ],
   "source": [
    "df = pd.DataFrame(busqueda.json()['artists']['items'])\n",
    "df.head()"
   ]
  },
  {
   "cell_type": "code",
   "execution_count": 47,
   "metadata": {},
   "outputs": [
    {
     "data": {
      "text/plain": [
       "'5YGY8feqx7naU7z4HrwZM6'"
      ]
     },
     "execution_count": 47,
     "metadata": {},
     "output_type": "execute_result"
    }
   ],
   "source": [
    "df.sort_values(by='popularity', ascending=False).iloc[0]['id']"
   ]
  },
  {
   "cell_type": "code",
   "execution_count": 48,
   "metadata": {},
   "outputs": [],
   "source": [
    "import base64"
   ]
  },
  {
   "cell_type": "code",
   "execution_count": 49,
   "metadata": {},
   "outputs": [],
   "source": [
    "def get_token(client_id,client_secret):\n",
    "    encoded = base64.b64encode(bytes(client_id+\":\"+client_secret,'utf-8'))\n",
    "    params = {\n",
    "    'grant_type':'client_credentials'\n",
    "    }\n",
    "    header = {'Authorization': 'Basic '+str(encoded,'utf-8')}\n",
    "    r=requests.post( 'https://accounts.spotify.com/api/token', headers=header, data=params)\n",
    "    if r.status_code!=200:\n",
    "        print('Error en el request : ',r.json())\n",
    "        return None\n",
    "    print('Token valido por {} segundos'.format(r.json()['expires_in']))\n",
    "    return r.json()['access_token']"
   ]
  },
  {
   "cell_type": "code",
   "execution_count": 50,
   "metadata": {},
   "outputs": [],
   "source": []
  },
  {
   "cell_type": "code",
   "execution_count": 51,
   "metadata": {},
   "outputs": [
    {
     "name": "stdout",
     "output_type": "stream",
     "text": [
      "Token valido por 3600 segundos\n"
     ]
    }
   ],
   "source": [
    "token = get_token(client_id,client_secret)"
   ]
  },
  {
   "cell_type": "code",
   "execution_count": 52,
   "metadata": {},
   "outputs": [],
   "source": [
    "header = {'Authorization': 'Bearer {}'.format(token)}"
   ]
  },
  {
   "cell_type": "code",
   "execution_count": 53,
   "metadata": {},
   "outputs": [],
   "source": [
    "ep_albums = '/artists/{id}/albums'"
   ]
  },
  {
   "cell_type": "code",
   "execution_count": 54,
   "metadata": {},
   "outputs": [
    {
     "data": {
      "text/plain": [
       "'https://api.spotify.com/v1/artists/{id}/albums'"
      ]
     },
     "execution_count": 54,
     "metadata": {},
     "output_type": "execute_result"
    }
   ],
   "source": [
    "url_base+ep_albums"
   ]
  },
  {
   "cell_type": "code",
   "execution_count": 55,
   "metadata": {},
   "outputs": [],
   "source": [
    "params = {'country':'GT'}"
   ]
  },
  {
   "cell_type": "code",
   "execution_count": 56,
   "metadata": {},
   "outputs": [],
   "source": [
    "albums_Mc=requests.get(url_base+ep_albums.format(id=id_artist),headers=header,params=params)"
   ]
  },
  {
   "cell_type": "code",
   "execution_count": 57,
   "metadata": {},
   "outputs": [
    {
     "data": {
      "text/plain": [
       "200"
      ]
     },
     "execution_count": 57,
     "metadata": {},
     "output_type": "execute_result"
    }
   ],
   "source": [
    "albums_Mc.status_code"
   ]
  },
  {
   "cell_type": "code",
   "execution_count": 59,
   "metadata": {},
   "outputs": [
    {
     "data": {
      "text/plain": [
       "{'album_group': 'album',\n",
       " 'album_type': 'album',\n",
       " 'artists': [{'external_urls': {'spotify': 'https://open.spotify.com/artist/5YGY8feqx7naU7z4HrwZM6'},\n",
       "   'href': 'https://api.spotify.com/v1/artists/5YGY8feqx7naU7z4HrwZM6',\n",
       "   'id': '5YGY8feqx7naU7z4HrwZM6',\n",
       "   'name': 'Miley Cyrus',\n",
       "   'type': 'artist',\n",
       "   'uri': 'spotify:artist:5YGY8feqx7naU7z4HrwZM6'}],\n",
       " 'external_urls': {'spotify': 'https://open.spotify.com/album/0HiZ8fNXwJOQcrf5iflrdz'},\n",
       " 'href': 'https://api.spotify.com/v1/albums/0HiZ8fNXwJOQcrf5iflrdz',\n",
       " 'id': '0HiZ8fNXwJOQcrf5iflrdz',\n",
       " 'images': [{'height': 640,\n",
       "   'url': 'https://i.scdn.co/image/ab67616d0000b27358039b5147731b6e52202e46',\n",
       "   'width': 640},\n",
       "  {'height': 300,\n",
       "   'url': 'https://i.scdn.co/image/ab67616d00001e0258039b5147731b6e52202e46',\n",
       "   'width': 300},\n",
       "  {'height': 64,\n",
       "   'url': 'https://i.scdn.co/image/ab67616d0000485158039b5147731b6e52202e46',\n",
       "   'width': 64}],\n",
       " 'name': 'Endless Summer Vacation',\n",
       " 'release_date': '2023-03-10',\n",
       " 'release_date_precision': 'day',\n",
       " 'total_tracks': 13,\n",
       " 'type': 'album',\n",
       " 'uri': 'spotify:album:0HiZ8fNXwJOQcrf5iflrdz'}"
      ]
     },
     "execution_count": 59,
     "metadata": {},
     "output_type": "execute_result"
    }
   ],
   "source": [
    "albums_Mc.json()['items'][0]"
   ]
  },
  {
   "attachments": {},
   "cell_type": "markdown",
   "metadata": {},
   "source": [
    "1) Fromar una lista con id del album y el nombre del album\n",
    "2) Obtener el album"
   ]
  }
 ],
 "metadata": {
  "kernelspec": {
   "display_name": "venv",
   "language": "python",
   "name": "python3"
  },
  "language_info": {
   "codemirror_mode": {
    "name": "ipython",
    "version": 3
   },
   "file_extension": ".py",
   "mimetype": "text/x-python",
   "name": "python",
   "nbconvert_exporter": "python",
   "pygments_lexer": "ipython3",
   "version": "3.10.4"
  },
  "orig_nbformat": 4
 },
 "nbformat": 4,
 "nbformat_minor": 2
}
